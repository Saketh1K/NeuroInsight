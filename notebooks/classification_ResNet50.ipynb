{
 "cells": [
  {
   "cell_type": "markdown",
   "metadata": {},
   "source": [
    "# importing required libraries"
   ]
  },
  {
   "cell_type": "code",
   "execution_count": 1,
   "metadata": {
    "execution": {
     "iopub.execute_input": "2024-09-23T11:58:56.223886Z",
     "iopub.status.busy": "2024-09-23T11:58:56.223558Z",
     "iopub.status.idle": "2024-09-23T11:58:59.961530Z",
     "shell.execute_reply": "2024-09-23T11:58:59.960740Z",
     "shell.execute_reply.started": "2024-09-23T11:58:56.223853Z"
    },
    "trusted": true
   },
   "outputs": [],
   "source": [
    "import pandas as pd\n",
    "import numpy as np\n",
    "from sklearn.model_selection import train_test_split\n",
    "import os\n",
    "import tensorflow as tf"
   ]
  },
  {
   "cell_type": "markdown",
   "metadata": {},
   "source": [
    "# Integer labels"
   ]
  },
  {
   "cell_type": "markdown",
   "metadata": {},
   "source": [
    "# importing images from folder"
   ]
  },
  {
   "cell_type": "code",
   "execution_count": 2,
   "metadata": {
    "execution": {
     "iopub.execute_input": "2024-09-23T11:58:59.966635Z",
     "iopub.status.busy": "2024-09-23T11:58:59.966344Z",
     "iopub.status.idle": "2024-09-23T11:58:59.971425Z",
     "shell.execute_reply": "2024-09-23T11:58:59.970437Z",
     "shell.execute_reply.started": "2024-09-23T11:58:59.966597Z"
    },
    "trusted": true
   },
   "outputs": [],
   "source": [
    "base_dir = r\"D:\\NeuroCure-main\\NeuroCure-main\\dataset\"\n",
    "categories = ['no_tumor', 'glioma_tumor', 'meningioma_tumor', 'pituitary_tumor'] # categories\n",
    "label_map = {\n",
    "    'no_tumor': 0,\n",
    "    'glioma_tumor': 1,\n",
    "    'meningioma_tumor': 2,\n",
    "    'pituitary_tumor': 3\n",
    "}# dictionary for category and corresponding integer"
   ]
  },
  {
   "cell_type": "markdown",
   "metadata": {},
   "source": [
    "# Function for loading images"
   ]
  },
  {
   "cell_type": "code",
   "execution_count": 3,
   "metadata": {
    "execution": {
     "iopub.execute_input": "2024-09-23T11:58:59.973396Z",
     "iopub.status.busy": "2024-09-23T11:58:59.972670Z",
     "iopub.status.idle": "2024-09-23T11:59:00.073937Z",
     "shell.execute_reply": "2024-09-23T11:59:00.073247Z",
     "shell.execute_reply.started": "2024-09-23T11:58:59.973347Z"
    },
    "trusted": true
   },
   "outputs": [],
   "source": [
    "def load_images(base_dir,label_map):\n",
    "    images=[]\n",
    "    labels=[]\n",
    "    for category in categories:\n",
    "        category_path=os.path.join(base_dir,category)\n",
    "        label=label_map[category]\n",
    "\n",
    "        # listing every file in perticular directory\n",
    "        for filename in os.listdir(category_path):\n",
    "            # check file extension\n",
    "            if (filename.endswith(\".jpg\") or filename.endswith(\".jpeg\") or filename.endswith(\".png\")):\n",
    "                image_path = os.path.join(category_path,filename)\n",
    "                images.append(image_path)\n",
    "                labels.append(label)\n",
    "    return images,labels\n",
    "        \n",
    "images,labels=load_images(base_dir,label_map)"
   ]
  },
  {
   "cell_type": "markdown",
   "metadata": {},
   "source": [
    "# Combine shuffle and seperate"
   ]
  },
  {
   "cell_type": "code",
   "execution_count": 4,
   "metadata": {
    "execution": {
     "iopub.execute_input": "2024-09-23T11:59:00.076503Z",
     "iopub.status.busy": "2024-09-23T11:59:00.076223Z",
     "iopub.status.idle": "2024-09-23T11:59:00.262926Z",
     "shell.execute_reply": "2024-09-23T11:59:00.261835Z",
     "shell.execute_reply.started": "2024-09-23T11:59:00.076472Z"
    },
    "trusted": true
   },
   "outputs": [
    {
     "name": "stdout",
     "output_type": "stream",
     "text": [
      "D:\\NeuroCure-main\\NeuroCure-main\\dataset\\glioma_tumor\\Tr-gl_0816.jpg\n"
     ]
    }
   ],
   "source": [
    "combined = list(zip(images, labels))\n",
    "np.random.shuffle(combined)\n",
    "images, labels = zip(*combined)\n",
    "print(images[0])"
   ]
  },
  {
   "cell_type": "markdown",
   "metadata": {},
   "source": [
    "# Splitting data into train,validation and test"
   ]
  },
  {
   "cell_type": "code",
   "execution_count": 5,
   "metadata": {
    "execution": {
     "iopub.execute_input": "2024-09-23T11:59:00.264556Z",
     "iopub.status.busy": "2024-09-23T11:59:00.264228Z",
     "iopub.status.idle": "2024-09-23T11:59:00.309730Z",
     "shell.execute_reply": "2024-09-23T11:59:00.308851Z",
     "shell.execute_reply.started": "2024-09-23T11:59:00.264522Z"
    },
    "trusted": true
   },
   "outputs": [],
   "source": [
    "# 70% train, 30% temp\n",
    "train_imgs, temp_imgs, train_labels, temp_labels = train_test_split(images, labels, test_size=0.3, stratify=labels)\n",
    "\n",
    "# 50% of temp in each test and val\n",
    "val_imgs, test_imgs, val_labels, test_labels = train_test_split(temp_imgs, temp_labels, test_size=0.5,stratify=temp_labels)"
   ]
  },
  {
   "cell_type": "markdown",
   "metadata": {},
   "source": [
    "# Decoding and Preprocessing images "
   ]
  },
  {
   "cell_type": "code",
   "execution_count": 6,
   "metadata": {
    "execution": {
     "iopub.execute_input": "2024-09-23T11:59:00.311231Z",
     "iopub.status.busy": "2024-09-23T11:59:00.310906Z",
     "iopub.status.idle": "2024-09-23T11:59:00.873843Z",
     "shell.execute_reply": "2024-09-23T11:59:00.872993Z",
     "shell.execute_reply.started": "2024-09-23T11:59:00.311200Z"
    },
    "trusted": true
   },
   "outputs": [],
   "source": [
    "new=tf.io.read_file(images[0])"
   ]
  },
  {
   "cell_type": "code",
   "execution_count": 7,
   "metadata": {
    "execution": {
     "iopub.execute_input": "2024-09-23T11:59:00.875312Z",
     "iopub.status.busy": "2024-09-23T11:59:00.874988Z",
     "iopub.status.idle": "2024-09-23T11:59:00.880931Z",
     "shell.execute_reply": "2024-09-23T11:59:00.879972Z",
     "shell.execute_reply.started": "2024-09-23T11:59:00.875277Z"
    },
    "trusted": true
   },
   "outputs": [],
   "source": [
    "new1=tf.io.decode_image(new)"
   ]
  },
  {
   "cell_type": "code",
   "execution_count": 8,
   "metadata": {
    "execution": {
     "iopub.execute_input": "2024-09-23T11:59:00.882497Z",
     "iopub.status.busy": "2024-09-23T11:59:00.882202Z",
     "iopub.status.idle": "2024-09-23T11:59:00.890319Z",
     "shell.execute_reply": "2024-09-23T11:59:00.889380Z",
     "shell.execute_reply.started": "2024-09-23T11:59:00.882464Z"
    },
    "trusted": true
   },
   "outputs": [
    {
     "data": {
      "text/plain": [
       "TensorShape([512, 512, 1])"
      ]
     },
     "execution_count": 8,
     "metadata": {},
     "output_type": "execute_result"
    }
   ],
   "source": [
    "new1.shape"
   ]
  },
  {
   "cell_type": "code",
   "execution_count": 9,
   "metadata": {
    "execution": {
     "iopub.execute_input": "2024-09-23T11:59:00.923438Z",
     "iopub.status.busy": "2024-09-23T11:59:00.923120Z",
     "iopub.status.idle": "2024-09-23T11:59:00.934569Z",
     "shell.execute_reply": "2024-09-23T11:59:00.933759Z",
     "shell.execute_reply.started": "2024-09-23T11:59:00.923408Z"
    },
    "trusted": true
   },
   "outputs": [],
   "source": [
    "from PIL import Image\n",
    "import numpy as np\n",
    "import tensorflow as tf\n",
    "\n",
    "def preprocess_image_pillow(image_path, label, training=False):\n",
    "    # Open the image using Pillow\n",
    "    image = Image.open(image_path).convert('RGB')  # Convert to RGB\n",
    "    # Resize the image\n",
    "    image = image.resize((224,224))\n",
    "    # Convert the image to a numpy array\n",
    "    image_array = np.array(image)\n",
    "    # Normalize the image to [0, 1]\n",
    "    image_array = image_array / 255.0\n",
    "    # Convert the numpy array to a TensorFlow tensor\n",
    "    image_tensor = tf.convert_to_tensor(image_array, dtype=tf.float32)\n",
    "    # Ensure label is of correct type\n",
    "    label_tensor = tf.convert_to_tensor(label, dtype=tf.int64)\n",
    "    \n",
    "    # Add a batch dimension\n",
    "    image_tensor = tf.expand_dims(image_tensor, axis=0)\n",
    "\n",
    "    if training:\n",
    "        # Apply data augmentation\n",
    "        # Random flip left-right\n",
    "        image_tensor = tf.image.random_flip_left_right(image_tensor)\n",
    "        # Random flip up-down\n",
    "        image_tensor = tf.image.random_flip_up_down(image_tensor)\n",
    "        # Random rotation (0, 90, 180, 270 degrees)\n",
    "        angles = [0, 90, 180, 270]\n",
    "        angle = tf.random.uniform([], minval=0, maxval=4, dtype=tf.int32)\n",
    "        image_tensor = tf.image.rot90(image_tensor, k=angle)\n",
    "        # Random brightness\n",
    "        image_tensor = tf.image.random_brightness(image_tensor, max_delta=0.2)\n",
    "        # Random contrast\n",
    "        image_tensor = tf.image.random_contrast(image_tensor, lower=0.7, upper=1.3)\n",
    "        # Random saturation\n",
    "        image_tensor = tf.image.random_saturation(image_tensor, lower=0.7, upper=1.3)\n",
    "\n",
    "    # Remove batch dimension before returning\n",
    "    image_tensor = tf.squeeze(image_tensor, axis=0)\n",
    "\n",
    "    return image_tensor, label_tensor\n"
   ]
  },
  {
   "cell_type": "code",
   "execution_count": 10,
   "metadata": {
    "execution": {
     "iopub.execute_input": "2024-09-23T11:59:00.939370Z",
     "iopub.status.busy": "2024-09-23T11:59:00.939030Z",
     "iopub.status.idle": "2024-09-23T11:59:01.035995Z",
     "shell.execute_reply": "2024-09-23T11:59:01.035071Z",
     "shell.execute_reply.started": "2024-09-23T11:59:00.939320Z"
    },
    "trusted": true
   },
   "outputs": [],
   "source": [
    "def generate_dataset(images, labels, training=False):\n",
    "    for img_path, lbl in zip(images, labels):\n",
    "        image_tensor, label_tensor = preprocess_image_pillow(img_path, lbl, training)\n",
    "        yield image_tensor, label_tensor\n",
    "\n",
    "def create_tf_dataset(images, labels, batch_size=32,training=False):\n",
    "    dataset = tf.data.Dataset.from_generator(\n",
    "        lambda: generate_dataset(images, labels, training),\n",
    "        output_signature=(\n",
    "            tf.TensorSpec(shape=[224,224,3], dtype=tf.float32),\n",
    "            tf.TensorSpec(shape=[], dtype=tf.int64)\n",
    "        )\n",
    "    )\n",
    "    dataset = dataset.batch(batch_size=batch_size)\n",
    "    dataset = dataset.shuffle(buffer_size=min(len(images), 1000))\n",
    "#     dataset = dataset.prefetch(buffer_size=tf.data.AUTOTUNE)\n",
    "    return dataset\n",
    "\n",
    "# Test the dataset creation\n",
    "train_data = create_tf_dataset(train_imgs, train_labels, training=True)\n",
    "val_data = create_tf_dataset(val_imgs, val_labels)\n",
    "test_data = create_tf_dataset(test_imgs, test_labels)\n"
   ]
  },
  {
   "cell_type": "markdown",
   "metadata": {},
   "source": [
    "# Resnet50V2"
   ]
  },
  {
   "cell_type": "markdown",
   "metadata": {},
   "source": [
    "# importing model"
   ]
  },
  {
   "cell_type": "code",
   "execution_count": 11,
   "metadata": {
    "execution": {
     "iopub.execute_input": "2024-09-23T11:59:01.037357Z",
     "iopub.status.busy": "2024-09-23T11:59:01.037069Z",
     "iopub.status.idle": "2024-09-23T11:59:01.051291Z",
     "shell.execute_reply": "2024-09-23T11:59:01.050567Z",
     "shell.execute_reply.started": "2024-09-23T11:59:01.037326Z"
    },
    "trusted": true
   },
   "outputs": [],
   "source": [
    "from tensorflow.keras.applications import ResNet50V2\n",
    "from tensorflow.keras.layers import Dense , GlobalAveragePooling2D\n",
    "from tensorflow.keras.models import Model"
   ]
  },
  {
   "cell_type": "markdown",
   "metadata": {},
   "source": [
    "# Loading with weights"
   ]
  },
  {
   "cell_type": "code",
   "execution_count": 12,
   "metadata": {
    "execution": {
     "iopub.execute_input": "2024-09-23T11:59:01.052501Z",
     "iopub.status.busy": "2024-09-23T11:59:01.052235Z",
     "iopub.status.idle": "2024-09-23T11:59:02.413008Z",
     "shell.execute_reply": "2024-09-23T11:59:02.412055Z",
     "shell.execute_reply.started": "2024-09-23T11:59:01.052472Z"
    },
    "trusted": true
   },
   "outputs": [],
   "source": [
    "\n",
    "base_model = ResNet50V2(weights=\"imagenet\",include_top=False ,input_shape=(224,224,3))"
   ]
  },
  {
   "cell_type": "markdown",
   "metadata": {},
   "source": [
    "# Adding custom layers"
   ]
  },
  {
   "cell_type": "code",
   "execution_count": 13,
   "metadata": {
    "execution": {
     "iopub.execute_input": "2024-09-23T11:59:02.414500Z",
     "iopub.status.busy": "2024-09-23T11:59:02.414203Z",
     "iopub.status.idle": "2024-09-23T11:59:02.477570Z",
     "shell.execute_reply": "2024-09-23T11:59:02.476788Z",
     "shell.execute_reply.started": "2024-09-23T11:59:02.414469Z"
    },
    "trusted": true
   },
   "outputs": [],
   "source": [
    "from tensorflow.keras.layers import GlobalAveragePooling2D, Dense,Dropout\n",
    "\n",
    "\n",
    " # Add custom layers to the base model\n",
    "x = base_model.output\n",
    "x = GlobalAveragePooling2D()(x)  # Global Average Pooling\n",
    "x = Dense(1024, activation='relu')(x)\n",
    "x = Dropout(0.5)(x)  # Dropout layer\n",
    "x = Dense(512, activation='relu')(x)\n",
    "x = Dropout(0.5)(x)  # Another Dropout layer\n",
    "output = Dense(4, activation='softmax')(x)  # Output layer for 4 classes\n",
    "\n",
    "    # Create the final model\n",
    "model = Model(inputs=base_model.input, outputs=output)\n"
   ]
  },
  {
   "cell_type": "markdown",
   "metadata": {},
   "source": [
    "# Freezing base model layers"
   ]
  },
  {
   "cell_type": "code",
   "execution_count": 14,
   "metadata": {
    "execution": {
     "iopub.execute_input": "2024-09-23T11:59:02.478895Z",
     "iopub.status.busy": "2024-09-23T11:59:02.478618Z",
     "iopub.status.idle": "2024-09-23T11:59:02.487316Z",
     "shell.execute_reply": "2024-09-23T11:59:02.486437Z",
     "shell.execute_reply.started": "2024-09-23T11:59:02.478866Z"
    },
    "trusted": true
   },
   "outputs": [],
   "source": [
    "for layer in base_model.layers:\n",
    "    layer.trainable = False\n"
   ]
  },
  {
   "cell_type": "markdown",
   "metadata": {},
   "source": [
    "# compiling a model"
   ]
  },
  {
   "cell_type": "code",
   "execution_count": 15,
   "metadata": {
    "execution": {
     "iopub.execute_input": "2024-09-23T11:59:02.489036Z",
     "iopub.status.busy": "2024-09-23T11:59:02.488645Z",
     "iopub.status.idle": "2024-09-23T11:59:02.496749Z",
     "shell.execute_reply": "2024-09-23T11:59:02.495993Z",
     "shell.execute_reply.started": "2024-09-23T11:59:02.488995Z"
    },
    "trusted": true
   },
   "outputs": [],
   "source": [
    "from tensorflow.keras.optimizers import Adam"
   ]
  },
  {
   "cell_type": "markdown",
   "metadata": {},
   "source": [
    "# Training a model"
   ]
  },
  {
   "cell_type": "code",
   "execution_count": 16,
   "metadata": {
    "execution": {
     "iopub.execute_input": "2024-09-23T14:14:49.189721Z",
     "iopub.status.busy": "2024-09-23T14:14:49.189084Z",
     "iopub.status.idle": "2024-09-23T15:19:10.080478Z",
     "shell.execute_reply": "2024-09-23T15:19:10.079579Z",
     "shell.execute_reply.started": "2024-09-23T14:14:49.189682Z"
    },
    "trusted": true
   },
   "outputs": [
    {
     "name": "stdout",
     "output_type": "stream",
     "text": [
      "Epoch 1/5\n"
     ]
    },
    {
     "name": "stdout",
     "output_type": "stream",
     "text": [
      "    130/Unknown \u001b[1m480s\u001b[0m 2s/step - accuracy: 0.6303 - loss: 1.0885"
     ]
    },
    {
     "name": "stderr",
     "output_type": "stream",
     "text": [
      "c:\\Users\\saket\\anaconda3\\Lib\\contextlib.py:158: UserWarning: Your input ran out of data; interrupting training. Make sure that your dataset or generator can generate at least `steps_per_epoch * epochs` batches. You may need to use the `.repeat()` function when building your dataset.\n",
      "  self.gen.throw(value)\n"
     ]
    },
    {
     "name": "stdout",
     "output_type": "stream",
     "text": [
      "\n",
      "Epoch 1: val_loss improved from inf to 0.49377, saving model to best_model.keras\n",
      "\u001b[1m130/130\u001b[0m \u001b[32m━━━━━━━━━━━━━━━━━━━━\u001b[0m\u001b[37m\u001b[0m \u001b[1m533s\u001b[0m 2s/step - accuracy: 0.6310 - loss: 1.0862 - val_accuracy: 0.7989 - val_loss: 0.4938\n",
      "Epoch 2/5\n",
      "\u001b[1m130/130\u001b[0m \u001b[32m━━━━━━━━━━━━━━━━━━━━\u001b[0m\u001b[37m\u001b[0m \u001b[1m0s\u001b[0m 1s/step - accuracy: 0.7944 - loss: 0.5383\n",
      "Epoch 2: val_loss improved from 0.49377 to 0.35378, saving model to best_model.keras\n",
      "\u001b[1m130/130\u001b[0m \u001b[32m━━━━━━━━━━━━━━━━━━━━\u001b[0m\u001b[37m\u001b[0m \u001b[1m311s\u001b[0m 2s/step - accuracy: 0.7945 - loss: 0.5380 - val_accuracy: 0.8712 - val_loss: 0.3538\n",
      "Epoch 3/5\n",
      "\u001b[1m130/130\u001b[0m \u001b[32m━━━━━━━━━━━━━━━━━━━━\u001b[0m\u001b[37m\u001b[0m \u001b[1m0s\u001b[0m 1s/step - accuracy: 0.8493 - loss: 0.3936\n",
      "Epoch 3: val_loss improved from 0.35378 to 0.34012, saving model to best_model.keras\n",
      "\u001b[1m130/130\u001b[0m \u001b[32m━━━━━━━━━━━━━━━━━━━━\u001b[0m\u001b[37m\u001b[0m \u001b[1m267s\u001b[0m 2s/step - accuracy: 0.8493 - loss: 0.3938 - val_accuracy: 0.8780 - val_loss: 0.3401\n",
      "Epoch 4/5\n",
      "\u001b[1m130/130\u001b[0m \u001b[32m━━━━━━━━━━━━━━━━━━━━\u001b[0m\u001b[37m\u001b[0m \u001b[1m0s\u001b[0m 1s/step - accuracy: 0.8753 - loss: 0.3510\n",
      "Epoch 4: val_loss did not improve from 0.34012\n",
      "\u001b[1m130/130\u001b[0m \u001b[32m━━━━━━━━━━━━━━━━━━━━\u001b[0m\u001b[37m\u001b[0m \u001b[1m270s\u001b[0m 2s/step - accuracy: 0.8752 - loss: 0.3511 - val_accuracy: 0.8734 - val_loss: 0.3406\n",
      "Epoch 5/5\n",
      "\u001b[1m130/130\u001b[0m \u001b[32m━━━━━━━━━━━━━━━━━━━━\u001b[0m\u001b[37m\u001b[0m \u001b[1m0s\u001b[0m 1s/step - accuracy: 0.8658 - loss: 0.3514\n",
      "Epoch 5: val_loss improved from 0.34012 to 0.29913, saving model to best_model.keras\n",
      "\u001b[1m130/130\u001b[0m \u001b[32m━━━━━━━━━━━━━━━━━━━━\u001b[0m\u001b[37m\u001b[0m \u001b[1m266s\u001b[0m 2s/step - accuracy: 0.8659 - loss: 0.3513 - val_accuracy: 0.8859 - val_loss: 0.2991\n",
      "Restoring model weights from the end of the best epoch: 5.\n"
     ]
    }
   ],
   "source": [
    "from tensorflow.keras.callbacks import EarlyStopping, ModelCheckpoint, LearningRateScheduler\n",
    "from tensorflow.keras.optimizers import Adam\n",
    "\n",
    "early_stopping = EarlyStopping(\n",
    "    monitor='val_loss',\n",
    "    patience=3,  # Stop if no improvement for 3 epochs\n",
    "    verbose=1,\n",
    "    restore_best_weights=True\n",
    ")\n",
    "\n",
    "# Define model checkpoint\n",
    "model_checkpoint = ModelCheckpoint(\n",
    "    'best_model.keras',\n",
    "    monitor='val_loss',\n",
    "    save_best_only=True,\n",
    "    verbose=1\n",
    ")\n",
    "\n",
    "optimizer=Adam(learning_rate=0.001)\n",
    "\n",
    "# Define learning rate scheduler\n",
    "\n",
    "\n",
    "model.compile(optimizer=optimizer,\n",
    "              loss='sparse_categorical_crossentropy',  # Use 'categorical_crossentropy' for multi-class\n",
    "               metrics=['accuracy'])\n",
    "\n",
    "# Fit the model with the callbacks\n",
    "history=model.fit(\n",
    "    train_data,\n",
    "    validation_data=val_data,\n",
    "    epochs=5,  # Start with 30 epochs\n",
    "#     steps_per_epoch=1,  # As specified\n",
    "    callbacks=[early_stopping, model_checkpoint]\n",
    ")\n"
   ]
  },
  {
   "cell_type": "code",
   "execution_count": 26,
   "metadata": {},
   "outputs": [
    {
     "data": {
      "image/png": "[encoded data removed]",
      "text/plain": [
       "<Figure size 1200x500 with 2 Axes>"
      ]
     },
     "metadata": {},
     "output_type": "display_data"
    }
   ],
   "source": [
    "import matplotlib.pyplot as plt\n",
    "\n",
    "# Data extracted from the log\n",
    "epochs = range(1, 6)  # 5 epochs\n",
    "accuracy = [0.6310, 0.7945, 0.8493, 0.8752, 0.8659]  # Training accuracy\n",
    "val_accuracy = [0.7989, 0.8712, 0.8780, 0.8734, 0.8859]  # Validation accuracy\n",
    "loss = [1.0862, 0.5380, 0.3938, 0.3511, 0.3513]  # Training loss\n",
    "val_loss = [0.4938, 0.3538, 0.3401, 0.3406, 0.2991]  # Validation loss\n",
    "\n",
    "# Plot accuracy\n",
    "plt.figure(figsize=(12, 5))\n",
    "plt.subplot(1, 2, 1)\n",
    "plt.plot(epochs, accuracy, label='Training Accuracy', marker='o')\n",
    "plt.plot(epochs, val_accuracy, label='Validation Accuracy', marker='o')\n",
    "plt.title('Model Accuracy Over Epochs')\n",
    "plt.xlabel('Epochs')\n",
    "plt.ylabel('Accuracy')\n",
    "plt.legend()\n",
    "plt.grid()\n",
    "\n",
    "# Plot loss\n",
    "plt.subplot(1, 2, 2)\n",
    "plt.plot(epochs, loss, label='Training Loss', marker='o')\n",
    "plt.plot(epochs, val_loss, label='Validation Loss', marker='o')\n",
    "plt.title('Model Loss Over Epochs')\n",
    "plt.xlabel('Epochs')\n",
    "plt.ylabel('Loss')\n",
    "plt.legend()\n",
    "plt.grid()\n",
    "\n",
    "# Display the plots\n",
    "plt.tight_layout()\n",
    "plt.show()\n"
   ]
  },
  {
   "cell_type": "markdown",
   "metadata": {},
   "source": [
    "# For training on Kaggle TPU"
   ]
  },
  {
   "cell_type": "code",
   "execution_count": 17,
   "metadata": {
    "execution": {
     "iopub.execute_input": "2024-09-23T15:19:10.082613Z",
     "iopub.status.busy": "2024-09-23T15:19:10.082283Z",
     "iopub.status.idle": "2024-09-23T15:19:10.088290Z",
     "shell.execute_reply": "2024-09-23T15:19:10.087422Z",
     "shell.execute_reply.started": "2024-09-23T15:19:10.082579Z"
    },
    "trusted": true
   },
   "outputs": [],
   "source": [
    "# import tensorflow as tf\n",
    "# from tensorflow.keras.models import Model\n",
    "# from tensorflow.keras.layers import GlobalAveragePooling2D, Dense,Dropout\n",
    "# from tensorflow.keras.callbacks import EarlyStopping, ModelCheckpoint, LearningRateScheduler\n",
    "# from tensorflow.keras.optimizers import Adam\n",
    "\n",
    "# # Detect and initialize the TPU\n",
    "# tpu = tf.distribute.cluster_resolver.TPUClusterResolver()  # Detect the TPU hardware\n",
    "# tf.tpu.experimental.initialize_tpu_system(tpu)  # Initialize the TPU system\n",
    "\n",
    "# # Instantiate the TPU distribution strategy\n",
    "# tpu_strategy = tf.distribute.TPUStrategy(tpu)\n",
    "\n",
    "# # Define the model within the TPU strategy scope\n",
    "# with tpu_strategy.scope():\n",
    "#     # Assuming you have a pre-trained base model (like MobileNet, EfficientNet, etc.)\n",
    "#     base_model = tf.keras.applications.ResNet50V2(weights='imagenet', include_top=False, input_shape=(512,512, 3))\n",
    "\n",
    "#     # Add custom layers to the base model\n",
    "#     x = base_model.output\n",
    "#     x = GlobalAveragePooling2D()(x)  # Global Average Pooling\n",
    "#     x = Dense(1024, activation='relu')(x)\n",
    "#     x = Dropout(0.5)(x)  # Dropout layer\n",
    "#     x = Dense(512, activation='relu')(x)\n",
    "#     x = Dropout(0.5)(x)  # Another Dropout layer\n",
    "#     output = Dense(4, activation='softmax')(x)  # Output layer for 4 classes\n",
    "\n",
    "#     # Create the final model\n",
    "#     model = Model(inputs=base_model.input, outputs=output)\n",
    "    \n",
    "    \n",
    "#     for layer in base_model.layers:\n",
    "#         layer.trainable = False\n",
    "    \n",
    "#     optimizer=Adam(learning_rate=0.001)\n",
    "\n",
    "\n",
    "    \n",
    "\n",
    "#     early_stopping = EarlyStopping(\n",
    "#         monitor='val_loss',\n",
    "#         patience=3,  # Stop if no improvement for 3 epochs\n",
    "#         verbose=1,\n",
    "#         restore_best_weights=True\n",
    "#     )\n",
    "\n",
    "#     # Define model checkpoint\n",
    "#     model_checkpoint = ModelCheckpoint(\n",
    "#         'ResNet50V2.keras',\n",
    "#         monitor='val_loss',\n",
    "#         save_best_only=True,\n",
    "#         verbose=1\n",
    "#     )\n",
    "    \n",
    "#     # Compile the model with optimizer, loss function, and metrics\n",
    "#     model.compile(optimizer=optimizer, loss='sparse_categorical_crossentropy', metrics=['accuracy'])\n",
    "\n",
    "#     # Train the model normally\n",
    "#     model.fit(train_data, \n",
    "#               epochs=50,\n",
    "#               validation_data=val_data, \n",
    "#               callbacks=[checkpoint_callback,early_stopping]\n",
    "#     #           steps_per_epoch=1500\n",
    "#              )\n"
   ]
  },
  {
   "cell_type": "code",
   "execution_count": 3,
   "id": "85ee9eed",
   "metadata": {},
   "outputs": [
    {
     "data": {
      "application/vnd.plotly.v1+json": {
       "config": {
        "linkText": "Export to plot.ly",
        "plotlyServerURL": "https://plot.ly",
        "showLink": false
       },
       "data": [
        {
         "marker": {
          "color": "#33cc33"
         },
         "name": "No",
         "opacity": 0.7,
         "type": "bar",
         "x": [
          "Train Set",
          "Validation Set",
          "Test Set"
         ],
         "y": [
          47,
          25,
          15
         ]
        },
        {
         "marker": {
          "color": "#ff3300"
         },
         "name": "Yes",
         "opacity": 0.7,
         "type": "bar",
         "x": [
          "Train Set",
          "Validation Set",
          "Test Set"
         ],
         "y": [
          53,
          25,
          15
         ]
        }
       ],
       "layout": {
        "template": {
         "data": {
          "bar": [
           {
            "error_x": {
             "color": "#2a3f5f"
            },
            "error_y": {
             "color": "#2a3f5f"
            },
            "marker": {
             "line": {
              "color": "#E5ECF6",
              "width": 0.5
             },
             "pattern": {
              "fillmode": "overlay",
              "size": 10,
              "solidity": 0.2
             }
            },
            "type": "bar"
           }
          ],
          "barpolar": [
           {
            "marker": {
             "line": {
              "color": "#E5ECF6",
              "width": 0.5
             },
             "pattern": {
              "fillmode": "overlay",
              "size": 10,
              "solidity": 0.2
             }
            },
            "type": "barpolar"
           }
          ],
          "carpet": [
           {
            "aaxis": {
             "endlinecolor": "#2a3f5f",
             "gridcolor": "white",
             "linecolor": "white",
             "minorgridcolor": "white",
             "startlinecolor": "#2a3f5f"
            },
            "baxis": {
             "endlinecolor": "#2a3f5f",
             "gridcolor": "white",
             "linecolor": "white",
             "minorgridcolor": "white",
             "startlinecolor": "#2a3f5f"
            },
            "type": "carpet"
           }
          ],
          "choropleth": [
           {
            "colorbar": {
             "outlinewidth": 0,
             "ticks": ""
            },
            "type": "choropleth"
           }
          ],
          "contour": [
           {
            "colorbar": {
             "outlinewidth": 0,
             "ticks": ""
            },
            "colorscale": [
             [
              0,
              "#0d0887"
             ],
             [
              0.1111111111111111,
              "#46039f"
             ],
             [
              0.2222222222222222,
              "#7201a8"
             ],
             [
              0.3333333333333333,
              "#9c179e"
             ],
             [
              0.4444444444444444,
              "#bd3786"
             ],
             [
              0.5555555555555556,
              "#d8576b"
             ],
             [
              0.6666666666666666,
              "#ed7953"
             ],
             [
              0.7777777777777778,
              "#fb9f3a"
             ],
             [
              0.8888888888888888,
              "#fdca26"
             ],
             [
              1,
              "#f0f921"
             ]
            ],
            "type": "contour"
           }
          ],
          "contourcarpet": [
           {
            "colorbar": {
             "outlinewidth": 0,
             "ticks": ""
            },
            "type": "contourcarpet"
           }
          ],
          "heatmap": [
           {
            "colorbar": {
             "outlinewidth": 0,
             "ticks": ""
            },
            "colorscale": [
             [
              0,
              "#0d0887"
             ],
             [
              0.1111111111111111,
              "#46039f"
             ],
             [
              0.2222222222222222,
              "#7201a8"
             ],
             [
              0.3333333333333333,
              "#9c179e"
             ],
             [
              0.4444444444444444,
              "#bd3786"
             ],
             [
              0.5555555555555556,
              "#d8576b"
             ],
             [
              0.6666666666666666,
              "#ed7953"
             ],
             [
              0.7777777777777778,
              "#fb9f3a"
             ],
             [
              0.8888888888888888,
              "#fdca26"
             ],
             [
              1,
              "#f0f921"
             ]
            ],
            "type": "heatmap"
           }
          ],
          "heatmapgl": [
           {
            "colorbar": {
             "outlinewidth": 0,
             "ticks": ""
            },
            "colorscale": [
             [
              0,
              "#0d0887"
             ],
             [
              0.1111111111111111,
              "#46039f"
             ],
             [
              0.2222222222222222,
              "#7201a8"
             ],
             [
              0.3333333333333333,
              "#9c179e"
             ],
             [
              0.4444444444444444,
              "#bd3786"
             ],
             [
              0.5555555555555556,
              "#d8576b"
             ],
             [
              0.6666666666666666,
              "#ed7953"
             ],
             [
              0.7777777777777778,
              "#fb9f3a"
             ],
             [
              0.8888888888888888,
              "#fdca26"
             ],
             [
              1,
              "#f0f921"
             ]
            ],
            "type": "heatmapgl"
           }
          ],
          "histogram": [
           {
            "marker": {
             "pattern": {
              "fillmode": "overlay",
              "size": 10,
              "solidity": 0.2
             }
            },
            "type": "histogram"
           }
          ],
          "histogram2d": [
           {
            "colorbar": {
             "outlinewidth": 0,
             "ticks": ""
            },
            "colorscale": [
             [
              0,
              "#0d0887"
             ],
             [
              0.1111111111111111,
              "#46039f"
             ],
             [
              0.2222222222222222,
              "#7201a8"
             ],
             [
              0.3333333333333333,
              "#9c179e"
             ],
             [
              0.4444444444444444,
              "#bd3786"
             ],
             [
              0.5555555555555556,
              "#d8576b"
             ],
             [
              0.6666666666666666,
              "#ed7953"
             ],
             [
              0.7777777777777778,
              "#fb9f3a"
             ],
             [
              0.8888888888888888,
              "#fdca26"
             ],
             [
              1,
              "#f0f921"
             ]
            ],
            "type": "histogram2d"
           }
          ],
          "histogram2dcontour": [
           {
            "colorbar": {
             "outlinewidth": 0,
             "ticks": ""
            },
            "colorscale": [
             [
              0,
              "#0d0887"
             ],
             [
              0.1111111111111111,
              "#46039f"
             ],
             [
              0.2222222222222222,
              "#7201a8"
             ],
             [
              0.3333333333333333,
              "#9c179e"
             ],
             [
              0.4444444444444444,
              "#bd3786"
             ],
             [
              0.5555555555555556,
              "#d8576b"
             ],
             [
              0.6666666666666666,
              "#ed7953"
             ],
             [
              0.7777777777777778,
              "#fb9f3a"
             ],
             [
              0.8888888888888888,
              "#fdca26"
             ],
             [
              1,
              "#f0f921"
             ]
            ],
            "type": "histogram2dcontour"
           }
          ],
          "mesh3d": [
           {
            "colorbar": {
             "outlinewidth": 0,
             "ticks": ""
            },
            "type": "mesh3d"
           }
          ],
          "parcoords": [
           {
            "line": {
             "colorbar": {
              "outlinewidth": 0,
              "ticks": ""
             }
            },
            "type": "parcoords"
           }
          ],
          "pie": [
           {
            "automargin": true,
            "type": "pie"
           }
          ],
          "scatter": [
           {
            "fillpattern": {
             "fillmode": "overlay",
             "size": 10,
             "solidity": 0.2
            },
            "type": "scatter"
           }
          ],
          "scatter3d": [
           {
            "line": {
             "colorbar": {
              "outlinewidth": 0,
              "ticks": ""
             }
            },
            "marker": {
             "colorbar": {
              "outlinewidth": 0,
              "ticks": ""
             }
            },
            "type": "scatter3d"
           }
          ],
          "scattercarpet": [
           {
            "marker": {
             "colorbar": {
              "outlinewidth": 0,
              "ticks": ""
             }
            },
            "type": "scattercarpet"
           }
          ],
          "scattergeo": [
           {
            "marker": {
             "colorbar": {
              "outlinewidth": 0,
              "ticks": ""
             }
            },
            "type": "scattergeo"
           }
          ],
          "scattergl": [
           {
            "marker": {
             "colorbar": {
              "outlinewidth": 0,
              "ticks": ""
             }
            },
            "type": "scattergl"
           }
          ],
          "scattermapbox": [
           {
            "marker": {
             "colorbar": {
              "outlinewidth": 0,
              "ticks": ""
             }
            },
            "type": "scattermapbox"
           }
          ],
          "scatterpolar": [
           {
            "marker": {
             "colorbar": {
              "outlinewidth": 0,
              "ticks": ""
             }
            },
            "type": "scatterpolar"
           }
          ],
          "scatterpolargl": [
           {
            "marker": {
             "colorbar": {
              "outlinewidth": 0,
              "ticks": ""
             }
            },
            "type": "scatterpolargl"
           }
          ],
          "scatterternary": [
           {
            "marker": {
             "colorbar": {
              "outlinewidth": 0,
              "ticks": ""
             }
            },
            "type": "scatterternary"
           }
          ],
          "surface": [
           {
            "colorbar": {
             "outlinewidth": 0,
             "ticks": ""
            },
            "colorscale": [
             [
              0,
              "#0d0887"
             ],
             [
              0.1111111111111111,
              "#46039f"
             ],
             [
              0.2222222222222222,
              "#7201a8"
             ],
             [
              0.3333333333333333,
              "#9c179e"
             ],
             [
              0.4444444444444444,
              "#bd3786"
             ],
             [
              0.5555555555555556,
              "#d8576b"
             ],
             [
              0.6666666666666666,
              "#ed7953"
             ],
             [
              0.7777777777777778,
              "#fb9f3a"
             ],
             [
              0.8888888888888888,
              "#fdca26"
             ],
             [
              1,
              "#f0f921"
             ]
            ],
            "type": "surface"
           }
          ],
          "table": [
           {
            "cells": {
             "fill": {
              "color": "#EBF0F8"
             },
             "line": {
              "color": "white"
             }
            },
            "header": {
             "fill": {
              "color": "#C8D4E3"
             },
             "line": {
              "color": "white"
             }
            },
            "type": "table"
           }
          ]
         },
         "layout": {
          "annotationdefaults": {
           "arrowcolor": "#2a3f5f",
           "arrowhead": 0,
           "arrowwidth": 1
          },
          "autotypenumbers": "strict",
          "coloraxis": {
           "colorbar": {
            "outlinewidth": 0,
            "ticks": ""
           }
          },
          "colorscale": {
           "diverging": [
            [
             0,
             "#8e0152"
            ],
            [
             0.1,
             "#c51b7d"
            ],
            [
             0.2,
             "#de77ae"
            ],
            [
             0.3,
             "#f1b6da"
            ],
            [
             0.4,
             "#fde0ef"
            ],
            [
             0.5,
             "#f7f7f7"
            ],
            [
             0.6,
             "#e6f5d0"
            ],
            [
             0.7,
             "#b8e186"
            ],
            [
             0.8,
             "#7fbc41"
            ],
            [
             0.9,
             "#4d9221"
            ],
            [
             1,
             "#276419"
            ]
           ],
           "sequential": [
            [
             0,
             "#0d0887"
            ],
            [
             0.1111111111111111,
             "#46039f"
            ],
            [
             0.2222222222222222,
             "#7201a8"
            ],
            [
             0.3333333333333333,
             "#9c179e"
            ],
            [
             0.4444444444444444,
             "#bd3786"
            ],
            [
             0.5555555555555556,
             "#d8576b"
            ],
            [
             0.6666666666666666,
             "#ed7953"
            ],
            [
             0.7777777777777778,
             "#fb9f3a"
            ],
            [
             0.8888888888888888,
             "#fdca26"
            ],
            [
             1,
             "#f0f921"
            ]
           ],
           "sequentialminus": [
            [
             0,
             "#0d0887"
            ],
            [
             0.1111111111111111,
             "#46039f"
            ],
            [
             0.2222222222222222,
             "#7201a8"
            ],
            [
             0.3333333333333333,
             "#9c179e"
            ],
            [
             0.4444444444444444,
             "#bd3786"
            ],
            [
             0.5555555555555556,
             "#d8576b"
            ],
            [
             0.6666666666666666,
             "#ed7953"
            ],
            [
             0.7777777777777778,
             "#fb9f3a"
            ],
            [
             0.8888888888888888,
             "#fdca26"
            ],
            [
             1,
             "#f0f921"
            ]
           ]
          },
          "colorway": [
           "#636efa",
           "#EF553B",
           "#00cc96",
           "#ab63fa",
           "#FFA15A",
           "#19d3f3",
           "#FF6692",
           "#B6E880",
           "#FF97FF",
           "#FECB52"
          ],
          "font": {
           "color": "#2a3f5f"
          },
          "geo": {
           "bgcolor": "white",
           "lakecolor": "white",
           "landcolor": "#E5ECF6",
           "showlakes": true,
           "showland": true,
           "subunitcolor": "white"
          },
          "hoverlabel": {
           "align": "left"
          },
          "hovermode": "closest",
          "mapbox": {
           "style": "light"
          },
          "paper_bgcolor": "white",
          "plot_bgcolor": "#E5ECF6",
          "polar": {
           "angularaxis": {
            "gridcolor": "white",
            "linecolor": "white",
            "ticks": ""
           },
           "bgcolor": "#E5ECF6",
           "radialaxis": {
            "gridcolor": "white",
            "linecolor": "white",
            "ticks": ""
           }
          },
          "scene": {
           "xaxis": {
            "backgroundcolor": "#E5ECF6",
            "gridcolor": "white",
            "gridwidth": 2,
            "linecolor": "white",
            "showbackground": true,
            "ticks": "",
            "zerolinecolor": "white"
           },
           "yaxis": {
            "backgroundcolor": "#E5ECF6",
            "gridcolor": "white",
            "gridwidth": 2,
            "linecolor": "white",
            "showbackground": true,
            "ticks": "",
            "zerolinecolor": "white"
           },
           "zaxis": {
            "backgroundcolor": "#E5ECF6",
            "gridcolor": "white",
            "gridwidth": 2,
            "linecolor": "white",
            "showbackground": true,
            "ticks": "",
            "zerolinecolor": "white"
           }
          },
          "shapedefaults": {
           "line": {
            "color": "#2a3f5f"
           }
          },
          "ternary": {
           "aaxis": {
            "gridcolor": "white",
            "linecolor": "white",
            "ticks": ""
           },
           "baxis": {
            "gridcolor": "white",
            "linecolor": "white",
            "ticks": ""
           },
           "bgcolor": "#E5ECF6",
           "caxis": {
            "gridcolor": "white",
            "linecolor": "white",
            "ticks": ""
           }
          },
          "title": {
           "x": 0.05
          },
          "xaxis": {
           "automargin": true,
           "gridcolor": "white",
           "linecolor": "white",
           "ticks": "",
           "title": {
            "standoff": 15
           },
           "zerolinecolor": "white",
           "zerolinewidth": 2
          },
          "yaxis": {
           "automargin": true,
           "gridcolor": "white",
           "linecolor": "white",
           "ticks": "",
           "title": {
            "standoff": 15
           },
           "zerolinecolor": "white",
           "zerolinewidth": 2
          }
         }
        },
        "title": {
         "text": "Count of classes in each set"
        },
        "xaxis": {
         "title": {
          "text": "Set"
         }
        },
        "yaxis": {
         "title": {
          "text": "Count"
         }
        }
       }
      }
     },
     "metadata": {},
     "output_type": "display_data"
    }
   ],
   "source": [
    "import numpy as np\n",
    "import plotly.graph_objs as go\n",
    "from plotly.offline import iplot\n",
    "\n",
    "# Mock data for demonstration purposes (replace with your actual data)\n",
    "y_train = np.random.choice([0, 1], size=100)  # 100 samples with classes 0 and 1\n",
    "y_val = np.random.choice([0, 1], size=50)    # 50 samples with classes 0 and 1\n",
    "y_test = np.random.choice([0, 1], size=30)   # 30 samples with classes 0 and 1\n",
    "\n",
    "# Initialize the dictionary to store class counts\n",
    "y = dict()\n",
    "y[0] = []\n",
    "y[1] = []\n",
    "\n",
    "# Count the occurrences of each class in the datasets\n",
    "for set_name in (y_train, y_val, y_test):\n",
    "    y[0].append(np.sum(set_name == 0))  # Count of class '0'\n",
    "    y[1].append(np.sum(set_name == 1))  # Count of class '1'\n",
    "\n",
    "# Trace for class '0'\n",
    "trace0 = go.Bar(\n",
    "    x=['Train Set', 'Validation Set', 'Test Set'],\n",
    "    y=y[0],\n",
    "    name='No',\n",
    "    marker=dict(color='#33cc33'),\n",
    "    opacity=0.7\n",
    ")\n",
    "\n",
    "# Trace for class '1'\n",
    "trace1 = go.Bar(\n",
    "    x=['Train Set', 'Validation Set', 'Test Set'],\n",
    "    y=y[1],\n",
    "    name='Yes',\n",
    "    marker=dict(color='#ff3300'),\n",
    "    opacity=0.7\n",
    ")\n",
    "\n",
    "# Combine the traces\n",
    "data = [trace0, trace1]\n",
    "\n",
    "# Layout for the plot\n",
    "layout = go.Layout(\n",
    "    title='Count of classes in each set',\n",
    "    xaxis={'title': 'Set'},\n",
    "    yaxis={'title': 'Count'}\n",
    ")\n",
    "\n",
    "# Create the figure and plot it\n",
    "fig = go.Figure(data, layout)\n",
    "iplot(fig)\n"
   ]
  },
  {
   "cell_type": "code",
   "execution_count": 5,
   "metadata": {
    "trusted": true
   },
   "outputs": [
    {
     "name": "stdout",
     "output_type": "stream",
     "text": [
      "Downloading data from https://storage.googleapis.com/tensorflow/keras-applications/resnet/resnet50v2_weights_tf_dim_ordering_tf_kernels.h5\n",
      "\u001b[1m102869336/102869336\u001b[0m \u001b[32m━━━━━━━━━━━━━━━━━━━━\u001b[0m\u001b[37m\u001b[0m \u001b[1m7s\u001b[0m 0us/step\n"
     ]
    }
   ],
   "source": [
    "import tensorflow as tf\n",
    "from tensorflow.keras.applications import ResNet50V2\n",
    "\n",
    "# Define the ResNet50V2 model (you can specify the input shape or other parameters)\n",
    "model = ResNet50V2(weights='imagenet', input_shape=(224, 224, 3))\n",
    "\n",
    "# Save the model\n",
    "model.save(\"ResNet50V2.keras\")\n"
   ]
  },
  {
   "cell_type": "code",
   "execution_count": 19,
   "metadata": {
    "execution": {
     "iopub.status.busy": "2024-09-23T15:19:10.139018Z",
     "iopub.status.idle": "2024-09-23T15:19:10.139402Z",
     "shell.execute_reply": "2024-09-23T15:19:10.139209Z",
     "shell.execute_reply.started": "2024-09-23T15:19:10.139191Z"
    },
    "trusted": true
   },
   "outputs": [
    {
     "name": "stdout",
     "output_type": "stream",
     "text": [
      "\u001b[1m28/28\u001b[0m \u001b[32m━━━━━━━━━━━━━━━━━━━━\u001b[0m\u001b[37m\u001b[0m \u001b[1m40s\u001b[0m 1s/step - accuracy: 0.8952 - loss: 0.2837\n"
     ]
    },
    {
     "data": {
      "text/plain": [
       "[0.28449660539627075, 0.8939051628112793]"
      ]
     },
     "execution_count": 19,
     "metadata": {},
     "output_type": "execute_result"
    }
   ],
   "source": [
    "model.evaluate(test_data)"
   ]
  },
  {
   "cell_type": "code",
   "execution_count": 20,
   "metadata": {
    "execution": {
     "iopub.status.busy": "2024-09-23T15:19:10.141112Z",
     "iopub.status.idle": "2024-09-23T15:19:10.141565Z",
     "shell.execute_reply": "2024-09-23T15:19:10.141334Z",
     "shell.execute_reply.started": "2024-09-23T15:19:10.141306Z"
    },
    "trusted": true
   },
   "outputs": [
    {
     "name": "stdout",
     "output_type": "stream",
     "text": [
      "\u001b[1m1/1\u001b[0m \u001b[32m━━━━━━━━━━━━━━━━━━━━\u001b[0m\u001b[37m\u001b[0m \u001b[1m2s\u001b[0m 2s/step\n",
      "\u001b[1m1/1\u001b[0m \u001b[32m━━━━━━━━━━━━━━━━━━━━\u001b[0m\u001b[37m\u001b[0m \u001b[1m1s\u001b[0m 1s/step\n",
      "\u001b[1m1/1\u001b[0m \u001b[32m━━━━━━━━━━━━━━━━━━━━\u001b[0m\u001b[37m\u001b[0m \u001b[1m1s\u001b[0m 1s/step\n",
      "\u001b[1m1/1\u001b[0m \u001b[32m━━━━━━━━━━━━━━━━━━━━\u001b[0m\u001b[37m\u001b[0m \u001b[1m1s\u001b[0m 1s/step\n",
      "\u001b[1m1/1\u001b[0m \u001b[32m━━━━━━━━━━━━━━━━━━━━\u001b[0m\u001b[37m\u001b[0m \u001b[1m1s\u001b[0m 1s/step\n",
      "\u001b[1m1/1\u001b[0m \u001b[32m━━━━━━━━━━━━━━━━━━━━\u001b[0m\u001b[37m\u001b[0m \u001b[1m1s\u001b[0m 1s/step\n",
      "\u001b[1m1/1\u001b[0m \u001b[32m━━━━━━━━━━━━━━━━━━━━\u001b[0m\u001b[37m\u001b[0m \u001b[1m1s\u001b[0m 1s/step\n",
      "\u001b[1m1/1\u001b[0m \u001b[32m━━━━━━━━━━━━━━━━━━━━\u001b[0m\u001b[37m\u001b[0m \u001b[1m1s\u001b[0m 1s/step\n",
      "\u001b[1m1/1\u001b[0m \u001b[32m━━━━━━━━━━━━━━━━━━━━\u001b[0m\u001b[37m\u001b[0m \u001b[1m1s\u001b[0m 1s/step\n",
      "\u001b[1m1/1\u001b[0m \u001b[32m━━━━━━━━━━━━━━━━━━━━\u001b[0m\u001b[37m\u001b[0m \u001b[1m1s\u001b[0m 1s/step\n",
      "\u001b[1m1/1\u001b[0m \u001b[32m━━━━━━━━━━━━━━━━━━━━\u001b[0m\u001b[37m\u001b[0m \u001b[1m3s\u001b[0m 3s/step\n",
      "\u001b[1m1/1\u001b[0m \u001b[32m━━━━━━━━━━━━━━━━━━━━\u001b[0m\u001b[37m\u001b[0m \u001b[1m1s\u001b[0m 1s/step\n",
      "\u001b[1m1/1\u001b[0m \u001b[32m━━━━━━━━━━━━━━━━━━━━\u001b[0m\u001b[37m\u001b[0m \u001b[1m1s\u001b[0m 1s/step\n",
      "\u001b[1m1/1\u001b[0m \u001b[32m━━━━━━━━━━━━━━━━━━━━\u001b[0m\u001b[37m\u001b[0m \u001b[1m1s\u001b[0m 1s/step\n",
      "\u001b[1m1/1\u001b[0m \u001b[32m━━━━━━━━━━━━━━━━━━━━\u001b[0m\u001b[37m\u001b[0m \u001b[1m1s\u001b[0m 1s/step\n",
      "\u001b[1m1/1\u001b[0m \u001b[32m━━━━━━━━━━━━━━━━━━━━\u001b[0m\u001b[37m\u001b[0m \u001b[1m1s\u001b[0m 1s/step\n",
      "\u001b[1m1/1\u001b[0m \u001b[32m━━━━━━━━━━━━━━━━━━━━\u001b[0m\u001b[37m\u001b[0m \u001b[1m1s\u001b[0m 1s/step\n",
      "\u001b[1m1/1\u001b[0m \u001b[32m━━━━━━━━━━━━━━━━━━━━\u001b[0m\u001b[37m\u001b[0m \u001b[1m1s\u001b[0m 1s/step\n",
      "\u001b[1m1/1\u001b[0m \u001b[32m━━━━━━━━━━━━━━━━━━━━\u001b[0m\u001b[37m\u001b[0m \u001b[1m1s\u001b[0m 1s/step\n",
      "\u001b[1m1/1\u001b[0m \u001b[32m━━━━━━━━━━━━━━━━━━━━\u001b[0m\u001b[37m\u001b[0m \u001b[1m1s\u001b[0m 1s/step\n",
      "\u001b[1m1/1\u001b[0m \u001b[32m━━━━━━━━━━━━━━━━━━━━\u001b[0m\u001b[37m\u001b[0m \u001b[1m1s\u001b[0m 1s/step\n",
      "\u001b[1m1/1\u001b[0m \u001b[32m━━━━━━━━━━━━━━━━━━━━\u001b[0m\u001b[37m\u001b[0m \u001b[1m1s\u001b[0m 1s/step\n",
      "\u001b[1m1/1\u001b[0m \u001b[32m━━━━━━━━━━━━━━━━━━━━\u001b[0m\u001b[37m\u001b[0m \u001b[1m1s\u001b[0m 1s/step\n",
      "\u001b[1m1/1\u001b[0m \u001b[32m━━━━━━━━━━━━━━━━━━━━\u001b[0m\u001b[37m\u001b[0m \u001b[1m1s\u001b[0m 1s/step\n",
      "\u001b[1m1/1\u001b[0m \u001b[32m━━━━━━━━━━━━━━━━━━━━\u001b[0m\u001b[37m\u001b[0m \u001b[1m1s\u001b[0m 1s/step\n",
      "\u001b[1m1/1\u001b[0m \u001b[32m━━━━━━━━━━━━━━━━━━━━\u001b[0m\u001b[37m\u001b[0m \u001b[1m1s\u001b[0m 1s/step\n",
      "\u001b[1m1/1\u001b[0m \u001b[32m━━━━━━━━━━━━━━━━━━━━\u001b[0m\u001b[37m\u001b[0m \u001b[1m1s\u001b[0m 1s/step\n",
      "\u001b[1m1/1\u001b[0m \u001b[32m━━━━━━━━━━━━━━━━━━━━\u001b[0m\u001b[37m\u001b[0m \u001b[1m1s\u001b[0m 1s/step\n",
      "F1 Score: 0.8909972580315672\n"
     ]
    }
   ],
   "source": [
    "import numpy as np\n",
    "import tensorflow as tf\n",
    "from sklearn.metrics import f1_score\n",
    "\n",
    "\n",
    "true_labels = []\n",
    "predicted_classes = []\n",
    "\n",
    "for x_batch, y_batch in test_data:\n",
    "    # Make predictions\n",
    "    predictions = model.predict(x_batch)\n",
    "    predicted_classes_batch = np.argmax(predictions, axis=1)\n",
    "    \n",
    "    # Collect true labels and predicted classes\n",
    "    true_labels.extend(y_batch.numpy())\n",
    "    predicted_classes.extend(predicted_classes_batch)\n",
    "\n",
    "# Calculate F1 score\n",
    "f1 = f1_score(true_labels, predicted_classes, average='weighted')\n",
    "print(f'F1 Score: {f1}')\n"
   ]
  },
  {
   "cell_type": "markdown",
   "metadata": {},
   "source": [
    "# Loading model from last checkpoint"
   ]
  }
 ],
 "metadata": {
  "kaggle": {
   "accelerator": "none",
   "dataSources": [
    {
     "datasetId": 5721479,
     "sourceId": 9420055,
     "sourceType": "datasetVersion"
    }
   ],
   "dockerImageVersionId": 30762,
   "isGpuEnabled": false,
   "isInternetEnabled": true,
   "language": "python",
   "sourceType": "notebook"
  },
  "kernelspec": {
   "display_name": "base",
   "language": "python",
   "name": "python3"
  },
  "language_info": {
   "codemirror_mode": {
    "name": "ipython",
    "version": 3
   },
   "file_extension": ".py",
   "mimetype": "text/x-python",
   "name": "python",
   "nbconvert_exporter": "python",
   "pygments_lexer": "ipython3",
   "version": "3.12.4"
  }
 },
 "nbformat": 4,
 "nbformat_minor": 5
}
